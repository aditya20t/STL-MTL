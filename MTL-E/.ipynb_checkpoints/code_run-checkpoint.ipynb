{
 "cells": [
  {
   "cell_type": "code",
   "execution_count": 1,
   "id": "9390acb6",
   "metadata": {},
   "outputs": [
    {
     "name": "stdout",
     "output_type": "stream",
     "text": [
      "\u001b[33mWARNING: Running pip as the 'root' user can result in broken permissions and conflicting behaviour with the system package manager. It is recommended to use a virtual environment instead: https://pip.pypa.io/warnings/venv\u001b[0m\n",
      "\u001b[33mWARNING: Running pip as the 'root' user can result in broken permissions and conflicting behaviour with the system package manager. It is recommended to use a virtual environment instead: https://pip.pypa.io/warnings/venv\u001b[0m\n",
      "\u001b[33mWARNING: Running pip as the 'root' user can result in broken permissions and conflicting behaviour with the system package manager. It is recommended to use a virtual environment instead: https://pip.pypa.io/warnings/venv\u001b[0m\n"
     ]
    }
   ],
   "source": [
    "!pip install nlp --quiet\n",
    "!pip install datasets --quiet\n",
    "!pip install accelerate --quiet"
   ]
  },
  {
   "cell_type": "code",
   "execution_count": 4,
   "id": "d4684367",
   "metadata": {},
   "outputs": [
    {
     "name": "stdout",
     "output_type": "stream",
     "text": [
      "/workspace\n"
     ]
    }
   ],
   "source": [
    "!pwd"
   ]
  },
  {
   "cell_type": "code",
   "execution_count": 2,
   "id": "6d394c6e",
   "metadata": {},
   "outputs": [],
   "source": [
    "import os\n",
    "\n",
    "file_dict = []\n",
    "states = [42,101,2020]\n",
    "folds = [0,1,2,3,4,5,6,7,8,9]\n",
    "for i in states:\n",
    "    for j in folds:\n",
    "        file_dict.append((\"\\\"../../data/hyperbole_mtl/\"+\"train_\"+str(i)+\"_\"+str(j)+\".csv\\\"\",\"\\\"../../data/hyperbole_mtl/\"+\"val_\"+str(i)+\"_\"+str(j)+\".csv\\\"\",\"\\\"../../data/metaphor_mtl/\"+\"train_\"+str(i)+\"_\"+str(j)+\".csv\\\"\",\"\\\"../../data/metaphor_mtl/\"+\"val_\"+str(i)+\"_\"+str(j)+\".csv\\\"\"))"
   ]
  },
  {
   "cell_type": "code",
   "execution_count": 3,
   "id": "6dafe3da",
   "metadata": {},
   "outputs": [
    {
     "name": "stderr",
     "output_type": "stream",
     "text": [
      "python3: can't open file 'main.py': [Errno 2] No such file or directory\n",
      "python3: can't open file 'main.py': [Errno 2] No such file or directory\n",
      "python3: can't open file 'main.py': [Errno 2] No such file or directory\n",
      "python3: can't open file 'main.py': [Errno 2] No such file or directory\n",
      "python3: can't open file 'main.py': [Errno 2] No such file or directory\n",
      "python3: can't open file 'main.py': [Errno 2] No such file or directory\n",
      "python3: can't open file 'main.py': [Errno 2] No such file or directory\n",
      "python3: can't open file 'main.py': [Errno 2] No such file or directory\n",
      "python3: can't open file 'main.py': [Errno 2] No such file or directory\n",
      "python3: can't open file 'main.py': [Errno 2] No such file or directory\n",
      "python3: can't open file 'main.py': [Errno 2] No such file or directory\n",
      "python3: can't open file 'main.py': [Errno 2] No such file or directory\n",
      "python3: can't open file 'main.py': [Errno 2] No such file or directory\n",
      "python3: can't open file 'main.py': [Errno 2] No such file or directory\n",
      "python3: can't open file 'main.py': [Errno 2] No such file or directory\n",
      "python3: can't open file 'main.py': [Errno 2] No such file or directory\n",
      "python3: can't open file 'main.py': [Errno 2] No such file or directory\n",
      "python3: can't open file 'main.py': [Errno 2] No such file or directory\n",
      "python3: can't open file 'main.py': [Errno 2] No such file or directory\n",
      "python3: can't open file 'main.py': [Errno 2] No such file or directory\n",
      "python3: can't open file 'main.py': [Errno 2] No such file or directory\n",
      "python3: can't open file 'main.py': [Errno 2] No such file or directory\n",
      "python3: can't open file 'main.py': [Errno 2] No such file or directory\n",
      "python3: can't open file 'main.py': [Errno 2] No such file or directory\n",
      "python3: can't open file 'main.py': [Errno 2] No such file or directory\n",
      "python3: can't open file 'main.py': [Errno 2] No such file or directory\n",
      "python3: can't open file 'main.py': [Errno 2] No such file or directory\n",
      "python3: can't open file 'main.py': [Errno 2] No such file or directory\n",
      "python3: can't open file 'main.py': [Errno 2] No such file or directory\n",
      "python3: can't open file 'main.py': [Errno 2] No such file or directory\n"
     ]
    }
   ],
   "source": [
    "for i,ele in enumerate(file_dict):\n",
    "    os.system(\"python3 main.py \\\n",
    "    --model_name_or_path='roberta-large' \\\n",
    "    --per_device_train_batch_size=64 \\\n",
    "    --output_dir=output \\\n",
    "    --num_train_epochs=25 \\\n",
    "    --htrain_file=\"+file_dict[i][0] + \" \\\n",
    "    --hvalidation_file=\"+file_dict[i][1]+ \" \\\n",
    "    --mtrain_file=\"+file_dict[i][2]+ \" \\\n",
    "    --mvalidation_file=\"+file_dict[i][3])"
   ]
  },
  {
   "cell_type": "code",
   "execution_count": null,
   "id": "02b106ec",
   "metadata": {},
   "outputs": [],
   "source": []
  }
 ],
 "metadata": {
  "kernelspec": {
   "display_name": "Python 3 (ipykernel)",
   "language": "python",
   "name": "python3"
  },
  "language_info": {
   "codemirror_mode": {
    "name": "ipython",
    "version": 3
   },
   "file_extension": ".py",
   "mimetype": "text/x-python",
   "name": "python",
   "nbconvert_exporter": "python",
   "pygments_lexer": "ipython3",
   "version": "3.8.13"
  }
 },
 "nbformat": 4,
 "nbformat_minor": 5
}
